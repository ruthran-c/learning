{
 "cells": [
  {
   "cell_type": "code",
   "execution_count": 1,
   "id": "initial_id",
   "metadata": {
    "collapsed": true,
    "ExecuteTime": {
     "end_time": "2024-02-28T14:50:09.008012Z",
     "start_time": "2024-02-28T14:50:06.824373Z"
    }
   },
   "outputs": [],
   "source": [
    "import pandas as pd\n",
    "import numpy as np"
   ]
  },
  {
   "cell_type": "code",
   "outputs": [],
   "source": [
    "census_df = pd.read_csv('datasets/tree-census-NYC_2015.csv')\n",
    "species_df = pd.read_csv('datasets/tree_species_nyc.csv')"
   ],
   "metadata": {
    "collapsed": false,
    "ExecuteTime": {
     "end_time": "2024-02-28T14:53:27.436235Z",
     "start_time": "2024-02-28T14:53:25.450899Z"
    }
   },
   "id": "f22d471e6c7cc0d",
   "execution_count": 9
  },
  {
   "cell_type": "code",
   "outputs": [
    {
     "data": {
      "text/plain": "        Unnamed: 0  tree_id  tree_dbh  stump_diam status health  \\\n0                0   180683         3           0  Alive   Fair   \n1                1   200540        21           0  Alive   Fair   \n2                2   204026         3           0  Alive   Good   \n3                3   204337        10           0  Alive   Good   \n4                4   189565        21           0  Alive   Good   \n...            ...      ...       ...         ...    ...    ...   \n683783      683783   155433        25           0  Alive   Good   \n683784      683784   183795         7           0  Alive   Good   \n683785      683785   166161        12           0  Alive   Good   \n683786      683786   184028         9           0  Alive   Good   \n683787      683787   200607        23           0  Alive   Fair   \n\n                                 spc_latin           spc_common  \\\n0                              Acer rubrum            red maple   \n1                        Quercus palustris              pin oak   \n2       Gleditsia triacanthos var. inermis          honeylocust   \n3       Gleditsia triacanthos var. inermis          honeylocust   \n4                          Tilia americana      American linden   \n...                                    ...                  ...   \n683783                   Quercus palustris              pin oak   \n683784                 Cladrastis kentukea  Kentucky yellowwood   \n683785                         Acer rubrum            red maple   \n683786                         Acer rubrum            red maple   \n683787                         Acer rubrum            red maple   \n\n                        address  zipcode  borocode       boroname  \\\n0             108-005 70 AVENUE    11375         4         Queens   \n1              147-074 7 AVENUE    11357         4         Queens   \n2             390 MORGAN AVENUE    11211         3       Brooklyn   \n3             1027 GRAND STREET    11211         3       Brooklyn   \n4                  603 6 STREET    11215         3       Brooklyn   \n...                         ...      ...       ...            ...   \n683783          32 MARCY AVENUE    11211         3       Brooklyn   \n683784  67-035 SELFRIDGE STREET    11375         4         Queens   \n683785       130 BIDWELL AVENUE    10314         5  Staten Island   \n683786      1985 ANTHONY AVENUE    10457         2          Bronx   \n683787        69-069 183 STREET    11365         4         Queens   \n\n                     nta_name     state   Latitude  longitude  \n0                Forest Hills  New York  40.723092 -73.844215  \n1                  Whitestone  New York  40.794111 -73.818679  \n2           East Williamsburg  New York  40.717581 -73.936608  \n3           East Williamsburg  New York  40.713537 -73.934456  \n4          Park Slope-Gowanus  New York  40.666778 -73.975979  \n...                       ...       ...        ...        ...  \n683783  North Side-South Side  New York  40.713211 -73.954944  \n683784           Forest Hills  New York  40.715194 -73.856650  \n683785            Westerleigh  New York  40.620762 -74.136517  \n683786             Mount Hope  New York  40.850828 -73.903115  \n683787   Fresh Meadows-Utopia  New York  40.732165 -73.787526  \n\n[683788 rows x 16 columns]",
      "text/html": "<div>\n<style scoped>\n    .dataframe tbody tr th:only-of-type {\n        vertical-align: middle;\n    }\n\n    .dataframe tbody tr th {\n        vertical-align: top;\n    }\n\n    .dataframe thead th {\n        text-align: right;\n    }\n</style>\n<table border=\"1\" class=\"dataframe\">\n  <thead>\n    <tr style=\"text-align: right;\">\n      <th></th>\n      <th>Unnamed: 0</th>\n      <th>tree_id</th>\n      <th>tree_dbh</th>\n      <th>stump_diam</th>\n      <th>status</th>\n      <th>health</th>\n      <th>spc_latin</th>\n      <th>spc_common</th>\n      <th>address</th>\n      <th>zipcode</th>\n      <th>borocode</th>\n      <th>boroname</th>\n      <th>nta_name</th>\n      <th>state</th>\n      <th>Latitude</th>\n      <th>longitude</th>\n    </tr>\n  </thead>\n  <tbody>\n    <tr>\n      <th>0</th>\n      <td>0</td>\n      <td>180683</td>\n      <td>3</td>\n      <td>0</td>\n      <td>Alive</td>\n      <td>Fair</td>\n      <td>Acer rubrum</td>\n      <td>red maple</td>\n      <td>108-005 70 AVENUE</td>\n      <td>11375</td>\n      <td>4</td>\n      <td>Queens</td>\n      <td>Forest Hills</td>\n      <td>New York</td>\n      <td>40.723092</td>\n      <td>-73.844215</td>\n    </tr>\n    <tr>\n      <th>1</th>\n      <td>1</td>\n      <td>200540</td>\n      <td>21</td>\n      <td>0</td>\n      <td>Alive</td>\n      <td>Fair</td>\n      <td>Quercus palustris</td>\n      <td>pin oak</td>\n      <td>147-074 7 AVENUE</td>\n      <td>11357</td>\n      <td>4</td>\n      <td>Queens</td>\n      <td>Whitestone</td>\n      <td>New York</td>\n      <td>40.794111</td>\n      <td>-73.818679</td>\n    </tr>\n    <tr>\n      <th>2</th>\n      <td>2</td>\n      <td>204026</td>\n      <td>3</td>\n      <td>0</td>\n      <td>Alive</td>\n      <td>Good</td>\n      <td>Gleditsia triacanthos var. inermis</td>\n      <td>honeylocust</td>\n      <td>390 MORGAN AVENUE</td>\n      <td>11211</td>\n      <td>3</td>\n      <td>Brooklyn</td>\n      <td>East Williamsburg</td>\n      <td>New York</td>\n      <td>40.717581</td>\n      <td>-73.936608</td>\n    </tr>\n    <tr>\n      <th>3</th>\n      <td>3</td>\n      <td>204337</td>\n      <td>10</td>\n      <td>0</td>\n      <td>Alive</td>\n      <td>Good</td>\n      <td>Gleditsia triacanthos var. inermis</td>\n      <td>honeylocust</td>\n      <td>1027 GRAND STREET</td>\n      <td>11211</td>\n      <td>3</td>\n      <td>Brooklyn</td>\n      <td>East Williamsburg</td>\n      <td>New York</td>\n      <td>40.713537</td>\n      <td>-73.934456</td>\n    </tr>\n    <tr>\n      <th>4</th>\n      <td>4</td>\n      <td>189565</td>\n      <td>21</td>\n      <td>0</td>\n      <td>Alive</td>\n      <td>Good</td>\n      <td>Tilia americana</td>\n      <td>American linden</td>\n      <td>603 6 STREET</td>\n      <td>11215</td>\n      <td>3</td>\n      <td>Brooklyn</td>\n      <td>Park Slope-Gowanus</td>\n      <td>New York</td>\n      <td>40.666778</td>\n      <td>-73.975979</td>\n    </tr>\n    <tr>\n      <th>...</th>\n      <td>...</td>\n      <td>...</td>\n      <td>...</td>\n      <td>...</td>\n      <td>...</td>\n      <td>...</td>\n      <td>...</td>\n      <td>...</td>\n      <td>...</td>\n      <td>...</td>\n      <td>...</td>\n      <td>...</td>\n      <td>...</td>\n      <td>...</td>\n      <td>...</td>\n      <td>...</td>\n    </tr>\n    <tr>\n      <th>683783</th>\n      <td>683783</td>\n      <td>155433</td>\n      <td>25</td>\n      <td>0</td>\n      <td>Alive</td>\n      <td>Good</td>\n      <td>Quercus palustris</td>\n      <td>pin oak</td>\n      <td>32 MARCY AVENUE</td>\n      <td>11211</td>\n      <td>3</td>\n      <td>Brooklyn</td>\n      <td>North Side-South Side</td>\n      <td>New York</td>\n      <td>40.713211</td>\n      <td>-73.954944</td>\n    </tr>\n    <tr>\n      <th>683784</th>\n      <td>683784</td>\n      <td>183795</td>\n      <td>7</td>\n      <td>0</td>\n      <td>Alive</td>\n      <td>Good</td>\n      <td>Cladrastis kentukea</td>\n      <td>Kentucky yellowwood</td>\n      <td>67-035 SELFRIDGE STREET</td>\n      <td>11375</td>\n      <td>4</td>\n      <td>Queens</td>\n      <td>Forest Hills</td>\n      <td>New York</td>\n      <td>40.715194</td>\n      <td>-73.856650</td>\n    </tr>\n    <tr>\n      <th>683785</th>\n      <td>683785</td>\n      <td>166161</td>\n      <td>12</td>\n      <td>0</td>\n      <td>Alive</td>\n      <td>Good</td>\n      <td>Acer rubrum</td>\n      <td>red maple</td>\n      <td>130 BIDWELL AVENUE</td>\n      <td>10314</td>\n      <td>5</td>\n      <td>Staten Island</td>\n      <td>Westerleigh</td>\n      <td>New York</td>\n      <td>40.620762</td>\n      <td>-74.136517</td>\n    </tr>\n    <tr>\n      <th>683786</th>\n      <td>683786</td>\n      <td>184028</td>\n      <td>9</td>\n      <td>0</td>\n      <td>Alive</td>\n      <td>Good</td>\n      <td>Acer rubrum</td>\n      <td>red maple</td>\n      <td>1985 ANTHONY AVENUE</td>\n      <td>10457</td>\n      <td>2</td>\n      <td>Bronx</td>\n      <td>Mount Hope</td>\n      <td>New York</td>\n      <td>40.850828</td>\n      <td>-73.903115</td>\n    </tr>\n    <tr>\n      <th>683787</th>\n      <td>683787</td>\n      <td>200607</td>\n      <td>23</td>\n      <td>0</td>\n      <td>Alive</td>\n      <td>Fair</td>\n      <td>Acer rubrum</td>\n      <td>red maple</td>\n      <td>69-069 183 STREET</td>\n      <td>11365</td>\n      <td>4</td>\n      <td>Queens</td>\n      <td>Fresh Meadows-Utopia</td>\n      <td>New York</td>\n      <td>40.732165</td>\n      <td>-73.787526</td>\n    </tr>\n  </tbody>\n</table>\n<p>683788 rows × 16 columns</p>\n</div>"
     },
     "execution_count": 10,
     "metadata": {},
     "output_type": "execute_result"
    }
   ],
   "source": [
    "census_df"
   ],
   "metadata": {
    "collapsed": false,
    "ExecuteTime": {
     "end_time": "2024-02-28T14:53:30.065947Z",
     "start_time": "2024-02-28T14:53:30.056589Z"
    }
   },
   "id": "39ffe287c535af88",
   "execution_count": 10
  },
  {
   "cell_type": "code",
   "outputs": [
    {
     "data": {
      "text/plain": "                 Scientific name       Common name  Photo    Size  \\\n0               Acer platanoides      Norway maple    NaN   Large   \n1                    Acer rubrum         Red maple    NaN   Large   \n2               Acer saccharinum      Silver maple    NaN   Large   \n3         Aesculus hippocastanum    Horse-chestnut    NaN   Large   \n4              Aesculus octandra    Common buckeye    NaN   Large   \n..                           ...               ...    ...     ...   \n97               Ulmus americana      American elm    NaN   Large   \n98   Ulmus glabra 'Camperdownii'    Camperdown elm    NaN  Medium   \n99              Ulmus parvifolia       Chinese elm    NaN     NaN   \n100                  Ulmus minor       English elm    NaN   Large   \n101              Zelkova serrata  Japanese zelkova    NaN     NaN   \n\n               Native Species Planted in NYC streets Edible fruit  \n0     Non-Native, Invasive[6]          Yes, Approved           No  \n1                      Native                    Yes          NaN  \n2                      Native                    Yes          NaN  \n3                  Non-Native                    Yes          NaN  \n4                      Native                    Yes          NaN  \n..                        ...                    ...          ...  \n97                     Native                    NaN          NaN  \n98   Non-Native, Not Invasive       No, Not Approved           No  \n99                 Non-Native                    NaN          NaN  \n100                Non-Native       No, Not Approved           No  \n101                Non-Native                    NaN          NaN  \n\n[102 rows x 7 columns]",
      "text/html": "<div>\n<style scoped>\n    .dataframe tbody tr th:only-of-type {\n        vertical-align: middle;\n    }\n\n    .dataframe tbody tr th {\n        vertical-align: top;\n    }\n\n    .dataframe thead th {\n        text-align: right;\n    }\n</style>\n<table border=\"1\" class=\"dataframe\">\n  <thead>\n    <tr style=\"text-align: right;\">\n      <th></th>\n      <th>Scientific name</th>\n      <th>Common name</th>\n      <th>Photo</th>\n      <th>Size</th>\n      <th>Native Species</th>\n      <th>Planted in NYC streets</th>\n      <th>Edible fruit</th>\n    </tr>\n  </thead>\n  <tbody>\n    <tr>\n      <th>0</th>\n      <td>Acer platanoides</td>\n      <td>Norway maple</td>\n      <td>NaN</td>\n      <td>Large</td>\n      <td>Non-Native, Invasive[6]</td>\n      <td>Yes, Approved</td>\n      <td>No</td>\n    </tr>\n    <tr>\n      <th>1</th>\n      <td>Acer rubrum</td>\n      <td>Red maple</td>\n      <td>NaN</td>\n      <td>Large</td>\n      <td>Native</td>\n      <td>Yes</td>\n      <td>NaN</td>\n    </tr>\n    <tr>\n      <th>2</th>\n      <td>Acer saccharinum</td>\n      <td>Silver maple</td>\n      <td>NaN</td>\n      <td>Large</td>\n      <td>Native</td>\n      <td>Yes</td>\n      <td>NaN</td>\n    </tr>\n    <tr>\n      <th>3</th>\n      <td>Aesculus hippocastanum</td>\n      <td>Horse-chestnut</td>\n      <td>NaN</td>\n      <td>Large</td>\n      <td>Non-Native</td>\n      <td>Yes</td>\n      <td>NaN</td>\n    </tr>\n    <tr>\n      <th>4</th>\n      <td>Aesculus octandra</td>\n      <td>Common buckeye</td>\n      <td>NaN</td>\n      <td>Large</td>\n      <td>Native</td>\n      <td>Yes</td>\n      <td>NaN</td>\n    </tr>\n    <tr>\n      <th>...</th>\n      <td>...</td>\n      <td>...</td>\n      <td>...</td>\n      <td>...</td>\n      <td>...</td>\n      <td>...</td>\n      <td>...</td>\n    </tr>\n    <tr>\n      <th>97</th>\n      <td>Ulmus americana</td>\n      <td>American elm</td>\n      <td>NaN</td>\n      <td>Large</td>\n      <td>Native</td>\n      <td>NaN</td>\n      <td>NaN</td>\n    </tr>\n    <tr>\n      <th>98</th>\n      <td>Ulmus glabra 'Camperdownii'</td>\n      <td>Camperdown elm</td>\n      <td>NaN</td>\n      <td>Medium</td>\n      <td>Non-Native, Not Invasive</td>\n      <td>No, Not Approved</td>\n      <td>No</td>\n    </tr>\n    <tr>\n      <th>99</th>\n      <td>Ulmus parvifolia</td>\n      <td>Chinese elm</td>\n      <td>NaN</td>\n      <td>NaN</td>\n      <td>Non-Native</td>\n      <td>NaN</td>\n      <td>NaN</td>\n    </tr>\n    <tr>\n      <th>100</th>\n      <td>Ulmus minor</td>\n      <td>English elm</td>\n      <td>NaN</td>\n      <td>Large</td>\n      <td>Non-Native</td>\n      <td>No, Not Approved</td>\n      <td>No</td>\n    </tr>\n    <tr>\n      <th>101</th>\n      <td>Zelkova serrata</td>\n      <td>Japanese zelkova</td>\n      <td>NaN</td>\n      <td>NaN</td>\n      <td>Non-Native</td>\n      <td>NaN</td>\n      <td>NaN</td>\n    </tr>\n  </tbody>\n</table>\n<p>102 rows × 7 columns</p>\n</div>"
     },
     "execution_count": 11,
     "metadata": {},
     "output_type": "execute_result"
    }
   ],
   "source": [
    "species_df"
   ],
   "metadata": {
    "collapsed": false,
    "ExecuteTime": {
     "end_time": "2024-02-28T14:53:33.415370Z",
     "start_time": "2024-02-28T14:53:33.401590Z"
    }
   },
   "id": "91a31c5dee0e1137",
   "execution_count": 11
  },
  {
   "cell_type": "code",
   "outputs": [
    {
     "data": {
      "text/plain": "Good    528850\nFair     96504\nNaN      31616\nPoor     26818\nName: health, dtype: int64"
     },
     "execution_count": 15,
     "metadata": {},
     "output_type": "execute_result"
    }
   ],
   "source": [
    "census_df.health.value_counts(dropna=False)"
   ],
   "metadata": {
    "collapsed": false,
    "ExecuteTime": {
     "end_time": "2024-02-28T14:55:24.613287Z",
     "start_time": "2024-02-28T14:55:24.604584Z"
    }
   },
   "id": "9f55f8316c629325",
   "execution_count": 15
  },
  {
   "cell_type": "code",
   "outputs": [],
   "source": [],
   "metadata": {
    "collapsed": false
   },
   "id": "b2589b3e8a19c672"
  },
  {
   "cell_type": "code",
   "outputs": [],
   "source": [],
   "metadata": {
    "collapsed": false
   },
   "id": "dd441ce0be46566a"
  }
 ],
 "metadata": {
  "kernelspec": {
   "display_name": "Python 3",
   "language": "python",
   "name": "python3"
  },
  "language_info": {
   "codemirror_mode": {
    "name": "ipython",
    "version": 2
   },
   "file_extension": ".py",
   "mimetype": "text/x-python",
   "name": "python",
   "nbconvert_exporter": "python",
   "pygments_lexer": "ipython2",
   "version": "2.7.6"
  }
 },
 "nbformat": 4,
 "nbformat_minor": 5
}
