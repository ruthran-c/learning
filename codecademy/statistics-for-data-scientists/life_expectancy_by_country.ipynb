{
 "cells": [
  {
   "cell_type": "markdown",
   "id": "0d033e85",
   "metadata": {},
   "source": [
    "# Life Expectancy By Country"
   ]
  },
  {
   "cell_type": "markdown",
   "id": "fd4403be",
   "metadata": {},
   "source": [
    "Over the course of the past few centuries, technological and medical advancements have helped increase the life expectancy of humans. However, as of now, the average life expectancy of humans varies depending on what country you live in.\n",
    "\n",
    "In this project, we will investigate a dataset containing information about the average life expectancy in 158 different countries. We will specifically look at how a country's economic success might impact the life expectancy in that area."
   ]
  },
  {
   "cell_type": "markdown",
   "id": "addfa720",
   "metadata": {},
   "source": [
    "## Access the Data"
   ]
  },
  {
   "cell_type": "markdown",
   "id": "44ba5eb2",
   "metadata": {},
   "source": [
    "1. We've imported a dataset containing the life expectancy in different countries. The data can be found in the variable named `data`.\n",
    "\n",
    "   To begin, let's get a sense of what this data looks like. Print `data.head()` to see the first 5 rows of the dataset.\n",
    "   \n",
    "   Look at the names of the columns. What other pieces of information does this dataset contain?\n",
    "   \n",
    "   You may want to comment out this print statement after looking at the data."
   ]
  },
  {
   "cell_type": "code",
   "execution_count": 15,
   "id": "551cb1ca",
   "metadata": {
    "ExecuteTime": {
     "end_time": "2024-01-20T13:52:52.656626Z",
     "start_time": "2024-01-20T13:52:52.551299Z"
    }
   },
   "outputs": [
    {
     "data": {
      "text/plain": "               Country  Life Expectancy          GDP\n0          Afghanistan         58.19375   340.015425\n1              Albania         75.15625  2119.726679\n2              Algeria         73.61875  2847.853392\n3               Angola         49.01875  1975.143045\n4  Antigua and Barbuda         75.05625  9759.305728",
      "text/html": "<div>\n<style scoped>\n    .dataframe tbody tr th:only-of-type {\n        vertical-align: middle;\n    }\n\n    .dataframe tbody tr th {\n        vertical-align: top;\n    }\n\n    .dataframe thead th {\n        text-align: right;\n    }\n</style>\n<table border=\"1\" class=\"dataframe\">\n  <thead>\n    <tr style=\"text-align: right;\">\n      <th></th>\n      <th>Country</th>\n      <th>Life Expectancy</th>\n      <th>GDP</th>\n    </tr>\n  </thead>\n  <tbody>\n    <tr>\n      <th>0</th>\n      <td>Afghanistan</td>\n      <td>58.19375</td>\n      <td>340.015425</td>\n    </tr>\n    <tr>\n      <th>1</th>\n      <td>Albania</td>\n      <td>75.15625</td>\n      <td>2119.726679</td>\n    </tr>\n    <tr>\n      <th>2</th>\n      <td>Algeria</td>\n      <td>73.61875</td>\n      <td>2847.853392</td>\n    </tr>\n    <tr>\n      <th>3</th>\n      <td>Angola</td>\n      <td>49.01875</td>\n      <td>1975.143045</td>\n    </tr>\n    <tr>\n      <th>4</th>\n      <td>Antigua and Barbuda</td>\n      <td>75.05625</td>\n      <td>9759.305728</td>\n    </tr>\n  </tbody>\n</table>\n</div>"
     },
     "execution_count": 15,
     "metadata": {},
     "output_type": "execute_result"
    }
   ],
   "source": [
    "import numpy as np\n",
    "import pandas as pd\n",
    "import matplotlib.pyplot as plt\n",
    "from icecream import ic\n",
    "\n",
    "data = pd.read_csv(\"data/country_data.csv\")\n",
    "data.head()"
   ]
  },
  {
   "cell_type": "markdown",
   "id": "1b0baea2",
   "metadata": {},
   "source": [
    "2. Let's isolate the column that contains the life expectancy and store it in a variable named `life_expectancy`. To get a single column from a Pandas DataFrame, use this syntax:\n",
    "\n",
    "   ```py\n",
    "   single_column = dataFrameName[\"columnName\"]\n",
    "   ```\n",
    "   \n",
    "   Make sure to pay attention to capitalization and spaces when using the column name!"
   ]
  },
  {
   "cell_type": "code",
   "execution_count": 9,
   "id": "817d9a01",
   "metadata": {
    "ExecuteTime": {
     "end_time": "2024-01-20T13:51:26.357472Z",
     "start_time": "2024-01-20T13:51:26.344838Z"
    }
   },
   "outputs": [],
   "source": [
    "life_expectancy = data.loc[:,\"Life Expectancy\"]"
   ]
  },
  {
   "cell_type": "markdown",
   "id": "6dbb4fb4",
   "metadata": {},
   "source": [
    "## Find the Quantiles"
   ]
  },
  {
   "cell_type": "markdown",
   "id": "f2bb4419",
   "metadata": {},
   "source": [
    "3. We can now use NumPy functions on that column! Let's use the `np.quantile()` function to find the quartiles of `life_expectancy`. Store the result in a variable named `life_expectancy_quartiles` and print the results."
   ]
  },
  {
   "cell_type": "code",
   "execution_count": 17,
   "id": "132424f2",
   "metadata": {
    "ExecuteTime": {
     "end_time": "2024-01-20T13:53:06.502588Z",
     "start_time": "2024-01-20T13:53:06.489981Z"
    }
   },
   "outputs": [
    {
     "data": {
      "text/plain": "array([62.325    , 72.525    , 75.4421875])"
     },
     "execution_count": 17,
     "metadata": {},
     "output_type": "execute_result"
    }
   ],
   "source": [
    "life_expectancy_quantiles = np.quantile(life_expectancy, [0.25, 0.5, 0.75])\n",
    "life_expectancy_quantiles"
   ]
  },
  {
   "cell_type": "markdown",
   "id": "d6b6d31e",
   "metadata": {},
   "source": [
    "4. Nice work! By looking at those three values you can get a sense of the spread of the data. For example, it seems like some of the data is fairly close together &mdash; a quarter of the data is between `72.5` years and `75.4` years.\n",
    "\n",
    "   Could you predict what the histogram might look like from those three numbers? Plot the histogram by using the following two lines of code. Does it look how you expected?\n",
    "   \n",
    "   ```py\n",
    "   plt.hist(life_expectancy)\n",
    "   plt.show()\n",
    "   ```"
   ]
  },
  {
   "cell_type": "code",
   "execution_count": 22,
   "id": "9ae17988",
   "metadata": {
    "ExecuteTime": {
     "end_time": "2024-01-20T13:55:19.006482Z",
     "start_time": "2024-01-20T13:55:18.831516Z"
    }
   },
   "outputs": [
    {
     "data": {
      "text/plain": "<Figure size 640x480 with 1 Axes>",
      "image/png": "[encoded data removed]"
     },
     "metadata": {},
     "output_type": "display_data"
    }
   ],
   "source": [
    "plt.hist(life_expectancy)\n",
    "for line in life_expectancy_quantiles:\n",
    "    plt.axvline(line, c='r')\n",
    "plt.show()"
   ]
  },
  {
   "cell_type": "markdown",
   "id": "be8976cb",
   "metadata": {},
   "source": [
    "5. Let's take a moment to think about the meaning of these quartiles. If your country has a life expectancy of `70` years, does that fall in the first, second, third, or final quarter of the data?\n",
    "\n",
    "   View **Life Expectancy By Country_Solution.ipynb** to see the answer!"
   ]
  },
  {
   "cell_type": "markdown",
   "id": "dc83db64",
   "metadata": {},
   "source": [
    "## Splitting the Data by GDP"
   ]
  },
  {
   "cell_type": "markdown",
   "id": "4dab91c1",
   "metadata": {},
   "source": [
    "6. GDP is a measure of a country's wealth. Let's now use the GDP data to see if life expectancy is affected by this value.\n",
    "\n",
    "   Let's split the data into two groups based on GDP. If we find the median GDP, we can create two datasets for \"low GDP countries\" and \"high GDP countries\".\n",
    "   \n",
    "   To start, let's isolate the GDP column and store it in a variable named `gdp`. This should be similar to how you isolated the life expectancy column."
   ]
  },
  {
   "cell_type": "code",
   "execution_count": 27,
   "id": "fa544862",
   "metadata": {
    "ExecuteTime": {
     "end_time": "2024-01-20T13:56:38.025861Z",
     "start_time": "2024-01-20T13:56:38.015941Z"
    }
   },
   "outputs": [],
   "source": [
    "gdp = data.loc[:, 'GDP']"
   ]
  },
  {
   "cell_type": "markdown",
   "id": "cc7e433e",
   "metadata": {},
   "source": [
    "7. We now want to find the median GDP. You can use NumPy's `np.median()` function, but since the median is also a quantile, we can call `np.quantile()` using `0.5` as the second parameter.\n",
    "\n",
    "   Store the median in a variable named `median_gdp`. Print that variable to see the median."
   ]
  },
  {
   "cell_type": "code",
   "outputs": [
    {
     "data": {
      "text/plain": "2938.0781155"
     },
     "execution_count": 29,
     "metadata": {},
     "output_type": "execute_result"
    }
   ],
   "source": [
    "median_gdp = np.quantile(gdp, 0.5)\n",
    "median_gdp"
   ],
   "metadata": {
    "collapsed": false,
    "ExecuteTime": {
     "end_time": "2024-01-20T13:57:17.937238Z",
     "start_time": "2024-01-20T13:57:17.929201Z"
    }
   },
   "id": "452a2a59c388a9da",
   "execution_count": 29
  },
  {
   "cell_type": "markdown",
   "source": [],
   "metadata": {
    "collapsed": false
   },
   "id": "69b584f46023a3dd"
  },
  {
   "cell_type": "markdown",
   "id": "7581520c",
   "metadata": {},
   "source": [
    "8. Let's now grab all of the rows from our original dataset that have a GDP less than or equal to the median. The following code will do that for you:\n",
    "\n",
    "   ```py\n",
    "   low_gdp = data[data['GDP'] <= median_gdp]\n",
    "   ```\n",
    "   \n",
    "   Do the same for all of the rows that have a GDP higher than the median. Store those rows in a variable named `high_gdp`.\n",
    "   \n",
    "   The line of code should look almost identical to the one above, but you should change the `<=` to `>`.\n",
    "   \n",
    "   Remember to change the name of the variable!"
   ]
  },
  {
   "cell_type": "code",
   "execution_count": 31,
   "id": "12067c34",
   "metadata": {
    "ExecuteTime": {
     "end_time": "2024-01-20T13:58:35.724118Z",
     "start_time": "2024-01-20T13:58:35.714965Z"
    }
   },
   "outputs": [],
   "source": [
    "low_gdp = data[data['GDP'] <= median_gdp]\n",
    "high_gdp = data[data['GDP'] > median_gdp]"
   ]
  },
  {
   "cell_type": "markdown",
   "id": "26ad7103",
   "metadata": {},
   "source": [
    "9. Now that we've split the data based on the GDP, let's see how the life expectancy of each group compares to each other.\n",
    "\n",
    "   Find the quartiles of the `\"Life Expectancy\"` column of `low_gdp`. Store the quartiles in a variable named `low_gdp_quartiles`. Print the results."
   ]
  },
  {
   "cell_type": "code",
   "execution_count": 34,
   "id": "4a06ada2",
   "metadata": {
    "ExecuteTime": {
     "end_time": "2024-01-20T14:01:00.506268Z",
     "start_time": "2024-01-20T14:01:00.498676Z"
    }
   },
   "outputs": [],
   "source": [
    "low_gdp_quartiles = np.quantile(low_gdp['Life Expectancy'], [0.25, 0.5, 0.75])\n",
    "high_gdp_quartiles = np.quantile(high_gdp['Life Expectancy'], [0.25, 0.5, 0.75])"
   ]
  },
  {
   "cell_type": "markdown",
   "id": "e900d679",
   "metadata": {},
   "source": [
    "10. Find the quartiles of the high GDP countries and store them in a variable named `high_gdp_quartiles`. This should look very similar to the last line of code you wrote. Print the results."
   ]
  },
  {
   "cell_type": "code",
   "execution_count": null,
   "id": "091c76c9",
   "metadata": {
    "ExecuteTime": {
     "end_time": "2024-01-20T13:49:18.639014Z",
     "start_time": "2024-01-20T13:49:18.584795Z"
    }
   },
   "outputs": [],
   "source": []
  },
  {
   "cell_type": "markdown",
   "id": "5fbc2a78",
   "metadata": {},
   "source": [
    "## Histogram and Conclusions"
   ]
  },
  {
   "cell_type": "markdown",
   "id": "f3472ae2",
   "metadata": {},
   "source": [
    "11. By looking at the quantiles, you should get a sense of the spread and central tendency of these two datasets. But let's plot a histogram of each dataset to really compare them.\n",
    "\n",
    "    At the bottom of your code, add these four lines:\n",
    "    ```py\n",
    "    plt.hist(high_gdp[\"Life Expectancy\"], alpha = 0.5, label = \"High GDP\")\n",
    "    plt.hist(low_gdp[\"Life Expectancy\"], alpha = 0.5, label = \"Low GDP\")\n",
    "    plt.legend()\n",
    "    plt.show()\n",
    "    ```"
   ]
  },
  {
   "cell_type": "code",
   "execution_count": 50,
   "id": "87077d84",
   "metadata": {
    "ExecuteTime": {
     "end_time": "2024-01-20T14:09:52.157566Z",
     "start_time": "2024-01-20T14:09:51.969851Z"
    }
   },
   "outputs": [
    {
     "data": {
      "text/plain": "<Figure size 640x480 with 1 Axes>",
      "image/png": "[encoded data removed]"
     },
     "metadata": {},
     "output_type": "display_data"
    }
   ],
   "source": [
    "plt.hist(high_gdp['Life Expectancy'], label=\"High GDP\", alpha=0.5)\n",
    "for line in low_gdp_quartiles:\n",
    "    plt.axvline(line, c='y')\n",
    "plt.hist(low_gdp['Life Expectancy'], label=\"Low GDP\", alpha=0.5)\n",
    "for line in high_gdp_quartiles:\n",
    "    plt.axvline(line, c='b', alpha=0.5)\n",
    "\n",
    "plt.legend()\n",
    "plt.show()"
   ]
  },
  {
   "cell_type": "markdown",
   "id": "2903763d",
   "metadata": {},
   "source": [
    "12. We can now truly see the impact GDP has on life expectancy.\n",
    "\n",
    "    Once again, consider a country that has a life expectancy of `70` years. If that country is in the top half of GDP countries, is it in the first, second, third, or fourth quarter of the data with respect to life expectancy? What if the country is in the bottom half of the countries? View **Life Expectancy By Country_Solution.ipynb** to see our thoughts."
   ]
  },
  {
   "cell_type": "code",
   "execution_count": 42,
   "id": "23367b69",
   "metadata": {
    "ExecuteTime": {
     "end_time": "2024-01-20T14:04:48.130676Z",
     "start_time": "2024-01-20T14:04:48.125170Z"
    }
   },
   "outputs": [
    {
     "data": {
      "text/plain": "                 Country  Life Expectancy          GDP\n0            Afghanistan         58.19375   340.015425\n1                Albania         75.15625  2119.726679\n2                Algeria         73.61875  2847.853392\n3                 Angola         49.01875  1975.143045\n4    Antigua and Barbuda         75.05625  9759.305728\n..                   ...              ...          ...\n153              Uruguay         76.07500  7192.584875\n154           Uzbekistan         68.03125   651.092359\n155              Vanuatu         71.38750  2000.245518\n156               Zambia         53.90625   811.811841\n157             Zimbabwe         50.48750   410.980194\n\n[158 rows x 3 columns]",
      "text/html": "<div>\n<style scoped>\n    .dataframe tbody tr th:only-of-type {\n        vertical-align: middle;\n    }\n\n    .dataframe tbody tr th {\n        vertical-align: top;\n    }\n\n    .dataframe thead th {\n        text-align: right;\n    }\n</style>\n<table border=\"1\" class=\"dataframe\">\n  <thead>\n    <tr style=\"text-align: right;\">\n      <th></th>\n      <th>Country</th>\n      <th>Life Expectancy</th>\n      <th>GDP</th>\n    </tr>\n  </thead>\n  <tbody>\n    <tr>\n      <th>0</th>\n      <td>Afghanistan</td>\n      <td>58.19375</td>\n      <td>340.015425</td>\n    </tr>\n    <tr>\n      <th>1</th>\n      <td>Albania</td>\n      <td>75.15625</td>\n      <td>2119.726679</td>\n    </tr>\n    <tr>\n      <th>2</th>\n      <td>Algeria</td>\n      <td>73.61875</td>\n      <td>2847.853392</td>\n    </tr>\n    <tr>\n      <th>3</th>\n      <td>Angola</td>\n      <td>49.01875</td>\n      <td>1975.143045</td>\n    </tr>\n    <tr>\n      <th>4</th>\n      <td>Antigua and Barbuda</td>\n      <td>75.05625</td>\n      <td>9759.305728</td>\n    </tr>\n    <tr>\n      <th>...</th>\n      <td>...</td>\n      <td>...</td>\n      <td>...</td>\n    </tr>\n    <tr>\n      <th>153</th>\n      <td>Uruguay</td>\n      <td>76.07500</td>\n      <td>7192.584875</td>\n    </tr>\n    <tr>\n      <th>154</th>\n      <td>Uzbekistan</td>\n      <td>68.03125</td>\n      <td>651.092359</td>\n    </tr>\n    <tr>\n      <th>155</th>\n      <td>Vanuatu</td>\n      <td>71.38750</td>\n      <td>2000.245518</td>\n    </tr>\n    <tr>\n      <th>156</th>\n      <td>Zambia</td>\n      <td>53.90625</td>\n      <td>811.811841</td>\n    </tr>\n    <tr>\n      <th>157</th>\n      <td>Zimbabwe</td>\n      <td>50.48750</td>\n      <td>410.980194</td>\n    </tr>\n  </tbody>\n</table>\n<p>158 rows × 3 columns</p>\n</div>"
     },
     "execution_count": 42,
     "metadata": {},
     "output_type": "execute_result"
    }
   ],
   "source": [
    "data"
   ]
  }
 ],
 "metadata": {
  "kernelspec": {
   "display_name": "Python 3 (ipykernel)",
   "language": "python",
   "name": "python3"
  },
  "language_info": {
   "codemirror_mode": {
    "name": "ipython",
    "version": 3
   },
   "file_extension": ".py",
   "mimetype": "text/x-python",
   "name": "python",
   "nbconvert_exporter": "python",
   "pygments_lexer": "ipython3",
   "version": "3.7.11"
  }
 },
 "nbformat": 4,
 "nbformat_minor": 5
}
